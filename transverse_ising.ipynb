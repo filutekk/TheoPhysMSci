{
 "cells": [
  {
   "cell_type": "code",
   "execution_count": 46,
   "id": "9a6624fd",
   "metadata": {},
   "outputs": [],
   "source": [
    "%matplotlib inline\n",
    "import numpy as np\n",
    "import matplotlib.pyplot as plt\n",
    "\n",
    "np.random.seed(139)\n",
    "\n",
    "class Transverse_Ising_Chain:\n",
    "    def __init__(self, num_spins, J=1.0, dJ=1.0):\n",
    "        self.num_spins = 8\n",
    "        self.J = J\n",
    "        self.dJ = dJ\n",
    "        if not hasattr(self,'J_ij'):\n",
    "            J_ij = self.J + (2 * self.dJ * np.random.rand(self.num_spins,self.num_spins) - self.dJ)\n",
    "        self.energy_values = self.calculate_energy_values(J_ij)\n",
    "\n",
    "    def calculate_energy_values(self, J_ij):\n",
    "        self.spin_configurations = self.generate_spin_configurations(output_type='nobinary')\n",
    "        hamiltonian_matrix = self.hamiltonian(J_ij)\n",
    "        energy_values, energy_vectors = np.linalg.eigh(hamiltonian_matrix)\n",
    "    \n",
    "        return energy_values\n",
    "\n",
    "    def generate_spin_configurations(self, output_type='binary'):\n",
    "        binary_configurations = np.arange(2**self.num_spins)[:, None] >> np.arange(self.num_spins)[::-1] & 1\n",
    "        if output_type == 'binary':\n",
    "            return binary_configurations\n",
    "        if output_type == 'nobinary':\n",
    "            return (binary_configurations * 2 - 1)\n",
    "\n",
    "    def sigma(self, original_state):\n",
    "        new_state = np.tile(original_state, (self.num_spins, 1))\n",
    "        np.fill_diagonal(new_state, 0)\n",
    "        return new_state\n",
    "\n",
    "    def hamiltonian(self, J_ij):\n",
    "        transverse_field_strength = 1\n",
    "        hamiltonian_matrix = np.zeros((2**self.num_spins, 2**self.num_spins))\n",
    "        \n",
    "        for i in range(2**self.num_spins):\n",
    "            x = self.spin_configurations[i] * np.roll(self.spin_configurations[i], -1)\n",
    "            isi_energy = -np.sum(J_ij * x)\n",
    "            hamiltonian_matrix[i, i] = isi_energy\n",
    "        \n",
    "        hamiltonian_matrix[0, [1, 2]] = transverse_field_strength\n",
    "        hamiltonian_matrix[1, [0, 3]] = transverse_field_strength\n",
    "        hamiltonian_matrix[2, [0, 3]] = transverse_field_strength\n",
    "        hamiltonian_matrix[3, [1, 2]] = transverse_field_strength\n",
    "        \n",
    "        return (hamiltonian_matrix.T)\n",
    "\n",
    "    def mcmc(self, num_steps, beta, output_type='float'):\n",
    "        current_state = 0\n",
    "        running_average = np.zeros(num_steps)\n",
    "        boltzmann_weights = np.exp(-beta * self.energy_values)\n",
    "        \n",
    "        for i in range(1, num_steps):\n",
    "            proposed_state = np.random.choice(4)\n",
    "            acceptance_probability = min(1, boltzmann_weights[proposed_state] / boltzmann_weights[current_state])\n",
    "            random_number = np.random.uniform()\n",
    "            \n",
    "            if random_number <= acceptance_probability:\n",
    "                current_state = proposed_state\n",
    "            \n",
    "            running_average[i] = running_average[i-1] + (1/i) * (self.energy_values[current_state] - running_average[i-1])\n",
    "        \n",
    "        if output_type == 'float':\n",
    "            return running_average[-1]\n",
    "        \n",
    "        if output_type == 'array':\n",
    "            return running_average\n",
    "\n",
    "    def average_energy(self, beta):\n",
    "        partition_function = np.sum(np.exp(-beta * self.energy_values))\n",
    "        average_energy = np.sum(np.exp(-beta * self.energy_values) * self.energy_values) / partition_function\n",
    "\n",
    "        x = self.mcmc(num_steps=1000,beta=1.0,output_type='array')\n",
    "        x_range = np.linspace(0,1000,len(x))\n",
    "        \n",
    "        return average_energy\n",
    "    "
   ]
  },
  {
   "cell_type": "code",
   "execution_count": 47,
   "id": "1d25e76d",
   "metadata": {},
   "outputs": [
    {
     "name": "stdout",
     "output_type": "stream",
     "text": [
      "The numerical value for the expectation energy is -62.939529611818614\n",
      "The analytic value for the expectation energy is -62.94168390736804\n"
     ]
    },
    {
     "data": {
      "image/png": "[encoded data removed]",
      "text/plain": [
       "<Figure size 640x480 with 1 Axes>"
      ]
     },
     "metadata": {},
     "output_type": "display_data"
    }
   ],
   "source": [
    "ising_chain = Transverse_Ising_Chain(num_spins=8)\n",
    "print('The numerical value for the expectation energy is' , ising_chain.mcmc(num_steps=1000, beta=1.0, output_type = 'float'))\n",
    "print('The analytic value for the expectation energy is' , ising_chain.average_energy(beta=1.0))"
   ]
  },
  {
   "cell_type": "code",
   "execution_count": 39,
   "id": "0c7b70ee",
   "metadata": {},
   "outputs": [
    {
     "ename": "TypeError",
     "evalue": "Transverse_Ising_Chain.hamiltonian() missing 1 required positional argument: 'J_ij'",
     "output_type": "error",
     "traceback": [
      "\u001b[0;31m---------------------------------------------------------------------------\u001b[0m",
      "\u001b[0;31mTypeError\u001b[0m                                 Traceback (most recent call last)",
      "Cell \u001b[0;32mIn[39], line 1\u001b[0m\n\u001b[0;32m----> 1\u001b[0m \u001b[38;5;28mprint\u001b[39m(\u001b[43mising_chain\u001b[49m\u001b[38;5;241;43m.\u001b[39;49m\u001b[43mhamiltonian\u001b[49m\u001b[43m(\u001b[49m\u001b[43m)\u001b[49m)\n",
      "\u001b[0;31mTypeError\u001b[0m: Transverse_Ising_Chain.hamiltonian() missing 1 required positional argument: 'J_ij'"
     ]
    }
   ],
   "source": [
    "print(ising_chain.hamiltonian())"
   ]
  },
  {
   "cell_type": "code",
   "execution_count": 5,
   "id": "449d4724",
   "metadata": {},
   "outputs": [],
   "source": [
    "%matplotlib inline\n",
    "import numpy as np\n",
    "import matplotlib.pyplot as plt\n",
    "\n",
    "np.random.seed(139)\n",
    "\n",
    "class Transverse_Ising_Chain:\n",
    "    def __init__(self, num_spins, J=0.5, dJ=0.5):\n",
    "        self.num_spins = num_spins\n",
    "        self.J = J\n",
    "        self.dJ = dJ\n",
    "        self.J_ij = self.J + (2 * self.dJ * np.random.rand(self.num_spins, self.num_spins) - self.dJ)\n",
    "        self.energy_values = self.calculate_energy_values()\n",
    "\n",
    "    def calculate_energy_values(self):\n",
    "        spin_configurations = self.generate_spin_configurations()\n",
    "        hamiltonian_matrix = self.hamiltonian(spin_configurations)\n",
    "        energy_values, energy_vectors = np.linalg.eigh(hamiltonian_matrix)\n",
    "        return energy_values\n",
    "\n",
    "    def generate_spin_configurations(self):\n",
    "        binary_configurations = np.arange(2**self.num_spins)[:, None] >> np.arange(self.num_spins)[::-1] & 1\n",
    "        spin_configurations = binary_configurations * 2 - 1\n",
    "        return spin_configurations\n",
    "    \n",
    "    def sigma(self, original_state):\n",
    "        new_state = np.tile(original_state, (self.num_spins, 1))\n",
    "        np.fill_diagonal(new_state, 0)\n",
    "        return new_state\n",
    "\n",
    "    def hamiltonian(self, spin_configurations):\n",
    "        transverse_field_strength = 1\n",
    "        hamiltonian_matrix = np.zeros((2**self.num_spins, 2**self.num_spins))\n",
    "        \n",
    "        for i in range(2**self.num_spins):\n",
    "            x = spin_configurations[i] * np.roll(spin_configurations[i], -1)\n",
    "            isi_energy = -np.sum(self.J_ij * x)\n",
    "            hamiltonian_matrix[i, i] = isi_energy\n",
    "        \n",
    "        hamiltonian_matrix[0, [1, 2]] = transverse_field_strength\n",
    "        hamiltonian_matrix[1, [0, 3]] = transverse_field_strength\n",
    "        hamiltonian_matrix[2, [0, 3]] = transverse_field_strength\n",
    "        hamiltonian_matrix[3, [1, 2]] = transverse_field_strength\n",
    "        \n",
    "        return hamiltonian_matrix.T\n",
    "\n",
    "    def mcmc(self, num_steps, beta):\n",
    "        current_state = 0\n",
    "        running_average = np.zeros(num_steps)\n",
    "        boltzmann_weights = np.exp(-beta * self.energy_values)\n",
    "        \n",
    "        for i in range(1, num_steps):\n",
    "            proposed_state = np.random.choice(4)\n",
    "            acceptance_probability = min(1, boltzmann_weights[proposed_state] / boltzmann_weights[current_state])\n",
    "            random_number = np.random.uniform()\n",
    "            \n",
    "            if random_number <= acceptance_probability:\n",
    "                current_state = proposed_state\n",
    "            \n",
    "            running_average[i] = running_average[i-1] + (1/i) * (self.energy_values[current_state] - running_average[i-1])\n",
    "        \n",
    "        return running_average[-1]\n",
    "\n",
    "    def critical_temp(self, beta):\n",
    "        partition_function = np.sum(np.exp(-beta * self.energy_values))\n",
    "        average_energy_m_2 = np.sum(np.exp(-beta * self.energy_values) * self.energy_values**2) / partition_function\n",
    "        average_energy_m_4 = np.sum(np.exp(-beta * self.energy_values) * self.energy_values**4) / partition_function\n",
    "        binder_cumulant = \n",
    "        \n",
    "        return average_energy\n",
    "    \n",
    "    def binder_cumulant(self, beta):\n",
    "    partition_function = np.sum(np.exp(-beta * self.energy_values))\n",
    "    average_m2 = np.sum(np.exp(-beta * self.energy_values) * self.energy_values**2) / partition_function\n",
    "    average_m4 = np.sum(np.exp(-beta * self.energy_values) * self.energy_values**4) / partition_function\n",
    "    binder_cumulant = 1 - average_m4 / (3 * average_m2**2)\n",
    "    return binder_cumulant"
   ]
  },
  {
   "cell_type": "code",
   "execution_count": 6,
   "id": "f75fc246",
   "metadata": {},
   "outputs": [
    {
     "name": "stdout",
     "output_type": "stream",
     "text": [
      "The numerical value for the expectation energy is -31.521646727285265\n",
      "The analytic value for the expectation energy is -31.5269731389979\n"
     ]
    }
   ],
   "source": [
    "ising_chain = Transverse_Ising_Chain(num_spins=8)\n",
    "print('The numerical value for the expectation energy is' , ising_chain.mcmc(num_steps=1000, beta=1.0))\n",
    "print('The analytic value for the expectation energy is' , ising_chain.average_energy(beta=1.0))"
   ]
  },
  {
   "cell_type": "code",
   "execution_count": null,
   "id": "a561e13b",
   "metadata": {},
   "outputs": [],
   "source": []
  }
 ],
 "metadata": {
  "kernelspec": {
   "display_name": "Python 3 (ipykernel)",
   "language": "python",
   "name": "python3"
  },
  "language_info": {
   "codemirror_mode": {
    "name": "ipython",
    "version": 3
   },
   "file_extension": ".py",
   "mimetype": "text/x-python",
   "name": "python",
   "nbconvert_exporter": "python",
   "pygments_lexer": "ipython3",
   "version": "3.10.9"
  }
 },
 "nbformat": 4,
 "nbformat_minor": 5
}
